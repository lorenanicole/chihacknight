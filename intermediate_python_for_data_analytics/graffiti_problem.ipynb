{
 "cells": [
  {
   "cell_type": "markdown",
   "metadata": {},
   "source": [
    "1. Import the 311 Service Requests - Graffiti Removal csv file.\n",
    "2. Create a dataframe.\n",
    "3. Create a dataframe that only has the previous year's removals (6-26-2014 to present).\n",
    "4. Remove unnecessary columns.  \n",
    "5. How many open cases are there?  How many completed cases are there?\n",
    "6. Make a histogram for the types of surfaces that graffiti is on.\n",
    "7. Make a histogram for the how many reports of graffiti per zip code.  \n",
    "8. That previous histogram is kind of small: make it larger in iPython."
   ]
  },
  {
   "cell_type": "code",
   "execution_count": null,
   "metadata": {
    "collapsed": true
   },
   "outputs": [],
   "source": []
  }
 ],
 "metadata": {
  "kernelspec": {
   "display_name": "Python 3",
   "language": "python",
   "name": "python3"
  },
  "language_info": {
   "codemirror_mode": {
    "name": "ipython",
    "version": 3
   },
   "file_extension": ".py",
   "mimetype": "text/x-python",
   "name": "python",
   "nbconvert_exporter": "python",
   "pygments_lexer": "ipython3",
   "version": "3.4.2"
  }
 },
 "nbformat": 4,
 "nbformat_minor": 0
}
